{
 "cells": [
  {
   "cell_type": "code",
   "execution_count": 1,
   "metadata": {},
   "outputs": [],
   "source": [
    "import os\n",
    "import shutil\n",
    "import pandas as pd\n",
    "from PIL import Image\n",
    "from sklearn.model_selection import train_test_split\n",
    "from dataset.flame import FlameSatelite\n",
    "from torchvision.transforms import transforms"
   ]
  },
  {
   "cell_type": "code",
   "execution_count": 7,
   "metadata": {},
   "outputs": [],
   "source": [
    "df_annot = pd.read_csv(\"../../data/flame_satellite/annotations.csv\")"
   ]
  },
  {
   "cell_type": "code",
   "execution_count": 8,
   "metadata": {},
   "outputs": [],
   "source": [
    "df_annot['class'] = df_annot['class'].map({'Fire' : 1})"
   ]
  },
  {
   "cell_type": "code",
   "execution_count": 4,
   "metadata": {},
   "outputs": [],
   "source": [
    "dataset_path = \"../../data/flame_satellite\"\n",
    "images_path = dataset_path+\"/images\"\n",
    "label_path = dataset_path+\"/YOLO/labels\""
   ]
  },
  {
   "cell_type": "code",
   "execution_count": 10,
   "metadata": {},
   "outputs": [],
   "source": [
    "grouped = df_annot.groupby(\"filename\")"
   ]
  },
  {
   "cell_type": "code",
   "execution_count": 12,
   "metadata": {},
   "outputs": [],
   "source": [
    "for filename, group in grouped:\n",
    "    img_path = os.path.join(dataset_path+\"/images\", filename)\n",
    "    if not os.path.exists(img_path):\n",
    "        continue\n",
    "\n",
    "    img = Image.open(img_path)\n",
    "    img_w, img_h = img.size\n",
    "\n",
    "    label_list = []\n",
    "    for _, row in group.iterrows():\n",
    "        x_center = (row[\"xmin\"] + row[\"xmax\"]) / 2 / img_w\n",
    "        y_center = (row[\"ymin\"] + row[\"ymax\"]) / 2 / img_h\n",
    "        width = (row[\"xmax\"] - row[\"xmin\"]) / img_w\n",
    "        height = (row[\"ymax\"] - row[\"ymin\"]) / img_h\n",
    "\n",
    "        yolo_label = f\"{row['class']} {x_center:.6f} {y_center:.6f} {width:.6f} {height:.6f}\"\n",
    "        label_list.append(yolo_label)\n",
    "\n",
    "    label_filename = os.path.splitext(filename)[0] + \".txt\"\n",
    "    label_path = os.path.join(dataset_path+\"/YOLO/labels\", label_filename)\n",
    "\n",
    "    with open(label_path, \"w\") as f:\n",
    "        f.write(\"\\n\".join(label_list))"
   ]
  },
  {
   "cell_type": "code",
   "execution_count": 2,
   "metadata": {},
   "outputs": [],
   "source": [
    "# for file in os.listdir(dataset_path+\"/YOLO/images/train\"):\n",
    "#     shutil.move(dataset_path+f\"/YOLO/images/train/{file}\", f\"{images_path}\")"
   ]
  },
  {
   "cell_type": "code",
   "execution_count": 5,
   "metadata": {},
   "outputs": [],
   "source": [
    "image_files = os.listdir(images_path)\n",
    "train_files, val_files = train_test_split(image_files, test_size=0.2, random_state=42)\n",
    "\n",
    "for file in train_files:\n",
    "    shutil.move(f\"{images_path}/{file}\", dataset_path+\"/YOLO/images/train\")\n",
    "    if os.path.exists(f\"{label_path}/{file.replace('.jpg', '.txt')}\"):\n",
    "        shutil.move(f\"{label_path}/{file.replace('.jpg', '.txt')}\", dataset_path+\"/YOLO/labels/train\")\n",
    "\n",
    "for file in val_files:\n",
    "    shutil.move(f\"{images_path}/{file}\", dataset_path+\"/YOLO/images/val\")\n",
    "    if os.path.exists(f\"{label_path}/{file.replace('.jpg', '.txt')}\"):\n",
    "        shutil.move(f\"{label_path}/{file.replace('.jpg', '.txt')}\", dataset_path+\"/YOLO/labels/val\")\n"
   ]
  }
 ],
 "metadata": {
  "kernelspec": {
   "display_name": "venv",
   "language": "python",
   "name": "python3"
  },
  "language_info": {
   "codemirror_mode": {
    "name": "ipython",
    "version": 3
   },
   "file_extension": ".py",
   "mimetype": "text/x-python",
   "name": "python",
   "nbconvert_exporter": "python",
   "pygments_lexer": "ipython3",
   "version": "3.12.4"
  }
 },
 "nbformat": 4,
 "nbformat_minor": 2
}
