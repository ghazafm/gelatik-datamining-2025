{
 "cells": [
  {
   "cell_type": "code",
   "execution_count": 1,
   "metadata": {},
   "outputs": [],
   "source": [
    "import torch\n",
    "import numpy as np\n",
    "import matplotlib.pyplot as plt\n",
    "from dataset.flame import FlameFOV\n",
    "from dataset.flame import FlameThermal\n",
    "from dataset.flame import FlameRGB\n",
    "from dataset.flame import FlameSatelite\n",
    "from torchvision.transforms import transforms\n",
    "from torchvision.utils import draw_bounding_boxes\n",
    "from torchvision.ops import box_convert\n",
    "import torchvision.transforms.functional as F\n",
    "from torch.utils.data import DataLoader\n",
    "from torch.utils.data import random_split\n",
    "from helper.image_processing import SquarePadTransform\n",
    "from helper.utils import collate_fn"
   ]
  },
  {
   "cell_type": "code",
   "execution_count": 2,
   "metadata": {},
   "outputs": [],
   "source": [
    "compose = transforms.Compose(\n",
    "    [\n",
    "        # SquarePadTransform(),\n",
    "        transforms.Resize((256, 256)),\n",
    "        transforms.ToTensor(),\n",
    "        # transforms.Normalize((0.5, 0.5, 0.5), (0.5, 0.5, 0.5)),\n",
    "    ]\n",
    ")"
   ]
  },
  {
   "cell_type": "code",
   "execution_count": 3,
   "metadata": {},
   "outputs": [
    {
     "name": "stdout",
     "output_type": "stream",
     "text": [
      "Downloading images from https://drive.google.com/uc?id=1QXWOIxrv4Q2CccWsafpDh7miASZqWDbY...\n"
     ]
    },
    {
     "name": "stderr",
     "output_type": "stream",
     "text": [
      "Downloading...\n",
      "From (original): https://drive.google.com/uc?id=1QXWOIxrv4Q2CccWsafpDh7miASZqWDbY\n",
      "From (redirected): https://drive.google.com/uc?id=1QXWOIxrv4Q2CccWsafpDh7miASZqWDbY&confirm=t&uuid=537736c6-c8a6-42f0-853a-4647218dd38b\n",
      "To: c:\\Users\\fadhil\\Documents\\Vscode\\Github\\gelatik-datamining-2025\\data\\flame_satellite\\images.zip\n",
      "100%|██████████| 43.0M/43.0M [00:07<00:00, 5.57MB/s]\n"
     ]
    },
    {
     "name": "stdout",
     "output_type": "stream",
     "text": [
      "Downloaded file to ..\\data\\flame_satellite\\images.zip\n",
      "Extracting images...\n",
      "Found a nested 'images' folder. Flattening structure...\n",
      "Found a directory: __MACOSX. Skipping...\n",
      "Removing unwanted __MACOSX folder...\n",
      "Downloading annotations from https://drive.google.com/uc?id=1KXJzjXNguRnT59-XlQhLomT-xfsjTYis...\n"
     ]
    },
    {
     "name": "stderr",
     "output_type": "stream",
     "text": [
      "Downloading...\n",
      "From: https://drive.google.com/uc?id=1KXJzjXNguRnT59-XlQhLomT-xfsjTYis\n",
      "To: c:\\Users\\fadhil\\Documents\\Vscode\\Github\\gelatik-datamining-2025\\data\\flame_satellite\\annotations.csv\n",
      "100%|██████████| 2.16M/2.16M [00:01<00:00, 2.01MB/s]\n"
     ]
    },
    {
     "name": "stdout",
     "output_type": "stream",
     "text": [
      "Downloaded file to ..\\data\\flame_satellite\\annotations.csv\n"
     ]
    }
   ],
   "source": [
    "dataset = FlameSatelite(download=True, transform=compose)\n",
    "\n",
    "train_size = int(0.8 * len(dataset))\n",
    "test_size = len(dataset) - train_size\n",
    "train_dataset, test_dataset = random_split(dataset, [train_size, test_size])\n",
    "\n",
    "train_loader = DataLoader(\n",
    "    train_dataset,\n",
    "    batch_size=32,\n",
    "    shuffle=True,\n",
    "    num_workers=4,\n",
    "    collate_fn=collate_fn\n",
    ")\n",
    "\n",
    "test_loader = DataLoader(\n",
    "    test_dataset,\n",
    "    batch_size=32,\n",
    "    shuffle=False,\n",
    "    num_workers=4,\n",
    "    collate_fn=collate_fn,  # Use custom collate function\n",
    ")"
   ]
  },
  {
   "cell_type": "code",
   "execution_count": null,
   "metadata": {},
   "outputs": [],
   "source": [
    "# Test the DataLoader\n",
    "for images, bboxes in train_loader:\n",
    "    print(\"Image batch shape:\", images.shape)\n",
    "    print(\"Bounding box batch shape:\", bboxes.shape)\n",
    "    break"
   ]
  },
  {
   "cell_type": "code",
   "execution_count": 4,
   "metadata": {},
   "outputs": [],
   "source": [
    "image, bbox = next(iter(train_loader))"
   ]
  },
  {
   "cell_type": "code",
   "execution_count": 5,
   "metadata": {},
   "outputs": [],
   "source": [
    "plt.rcParams[\"savefig.bbox\"] = \"tight\"\n",
    "\n",
    "def show(imgs):\n",
    "    if not isinstance(imgs, list):\n",
    "        imgs = [imgs]\n",
    "    fig, axs = plt.subplots(ncols=len(imgs), squeeze=False)\n",
    "    for i, img in enumerate(imgs):\n",
    "        img = img.detach()\n",
    "        img = F.to_pil_image(img)\n",
    "        axs[0, i].imshow(np.asarray(img))\n",
    "        axs[0, i].set(xticklabels=[], yticklabels=[], xticks=[], yticks=[])"
   ]
  },
  {
   "cell_type": "code",
   "execution_count": null,
   "metadata": {},
   "outputs": [],
   "source": [
    "bbox_xyxy = box_convert(bbox[11], in_fmt=\"cxcywh\", out_fmt=\"xyxy\")\n",
    "\n",
    "result = draw_bounding_boxes(image[11], bbox_xyxy, colors=\"blue\", width=5)\n",
    "show(result)"
   ]
  }
 ],
 "metadata": {
  "kernelspec": {
   "display_name": "venv",
   "language": "python",
   "name": "python3"
  },
  "language_info": {
   "codemirror_mode": {
    "name": "ipython",
    "version": 3
   },
   "file_extension": ".py",
   "mimetype": "text/x-python",
   "name": "python",
   "nbconvert_exporter": "python",
   "pygments_lexer": "ipython3",
   "version": "3.12.4"
  }
 },
 "nbformat": 4,
 "nbformat_minor": 2
}
