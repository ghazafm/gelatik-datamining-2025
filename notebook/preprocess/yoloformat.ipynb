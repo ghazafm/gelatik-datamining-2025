{
 "cells": [
  {
   "cell_type": "code",
   "execution_count": 1,
   "metadata": {},
   "outputs": [],
   "source": [
    "from dataset.flame import FlameSatelite\n",
    "from dataset.flame import FlameSatelite\n",
    "from torch.utils.data import random_split\n",
    "from torchvision.transforms import transforms\n",
    "from pathlib import Path\n",
    "import os"
   ]
  },
  {
   "cell_type": "code",
   "execution_count": 2,
   "metadata": {},
   "outputs": [],
   "source": [
    "compose = transforms.Compose(\n",
    "    [\n",
    "        transforms.Resize((256, 256)),\n",
    "        transforms.ToTensor(),\n",
    "        # transforms.Normalize((0.5, 0.5, 0.5), (0.5, 0.5, 0.5)),\n",
    "    ]\n",
    ")"
   ]
  },
  {
   "cell_type": "code",
   "execution_count": 3,
   "metadata": {},
   "outputs": [
    {
     "name": "stdout",
     "output_type": "stream",
     "text": [
      "Downloading images from https://drive.google.com/uc?id=1QXWOIxrv4Q2CccWsafpDh7miASZqWDbY...\n"
     ]
    },
    {
     "name": "stderr",
     "output_type": "stream",
     "text": [
      "Downloading...\n",
      "From (original): https://drive.google.com/uc?id=1QXWOIxrv4Q2CccWsafpDh7miASZqWDbY\n",
      "From (redirected): https://drive.google.com/uc?id=1QXWOIxrv4Q2CccWsafpDh7miASZqWDbY&confirm=t&uuid=45719115-9cd1-41c9-86e8-f3de964e6e29\n",
      "To: /Users/fauzanghaza/Downloads/gelatik-datamining-2025/data/flame_satellite/images.zip\n",
      "100%|██████████| 43.0M/43.0M [00:08<00:00, 5.34MB/s]\n"
     ]
    },
    {
     "name": "stdout",
     "output_type": "stream",
     "text": [
      "Downloaded file to ../../data/flame_satellite/images.zip\n",
      "Extracting images...\n",
      "Found a directory: __MACOSX. Skipping...\n",
      "Removing unwanted __MACOSX folder...\n",
      "Found a nested 'images' folder. Flattening structure...\n",
      "Downloading annotations from https://drive.google.com/uc?id=1KXJzjXNguRnT59-XlQhLomT-xfsjTYis...\n"
     ]
    },
    {
     "name": "stderr",
     "output_type": "stream",
     "text": [
      "Downloading...\n",
      "From: https://drive.google.com/uc?id=1KXJzjXNguRnT59-XlQhLomT-xfsjTYis\n",
      "To: /Users/fauzanghaza/Downloads/gelatik-datamining-2025/data/flame_satellite/annotations.csv\n",
      "100%|██████████| 2.16M/2.16M [00:00<00:00, 4.71MB/s]\n"
     ]
    },
    {
     "name": "stdout",
     "output_type": "stream",
     "text": [
      "Downloaded file to ../../data/flame_satellite/annotations.csv\n"
     ]
    }
   ],
   "source": [
    "dataset = FlameSatelite(download=True, root= \"../../data/flame_satellite\")\n",
    "\n",
    "train_size = int(0.8 * len(dataset))\n",
    "valid_size = len(dataset) - train_size\n",
    "train_dataset, valid_dataset = random_split(dataset, [train_size, valid_size])"
   ]
  },
  {
   "cell_type": "code",
   "execution_count": 4,
   "metadata": {},
   "outputs": [],
   "source": [
    "root_dir = Path(\"../../data/flame_satellite\")\n",
    "train_img_dir = root_dir / \"train/images\"\n",
    "train_lbl_dir = root_dir / \"train/labels\"\n",
    "valid_img_dir = root_dir / \"valid/images\"\n",
    "valid_lbl_dir = root_dir / \"valid/labels\"\n",
    "\n",
    "for path in [train_img_dir, train_lbl_dir, valid_img_dir, valid_lbl_dir]:\n",
    "    os.makedirs(path, exist_ok=True)"
   ]
  },
  {
   "cell_type": "code",
   "execution_count": 5,
   "metadata": {},
   "outputs": [],
   "source": [
    "def convert_bbox_yolo(image_size, bbox):\n",
    "    img_w, img_h = image_size\n",
    "    x_min, y_min, x_max, y_max = bbox\n",
    "\n",
    "    x_center = (x_min + x_max) / 2 / img_w\n",
    "    y_center = (y_min + y_max) / 2 / img_h\n",
    "    width = (x_max - x_min) / img_w\n",
    "    height = (y_max - y_min) / img_h\n",
    "\n",
    "    return x_center, y_center, width, height"
   ]
  },
  {
   "cell_type": "code",
   "execution_count": 6,
   "metadata": {},
   "outputs": [],
   "source": [
    "# 🔄 Function to save dataset in YOLO format\n",
    "def save_yolo_format(dataset, img_dir, lbl_dir):\n",
    "    for i, (image, bboxes) in enumerate(dataset):\n",
    "        if image is None:\n",
    "            continue  # Skip failed images\n",
    "\n",
    "        img_name = f\"img_{i}.jpg\"\n",
    "        lbl_name = f\"img_{i}.txt\"\n",
    "\n",
    "        # 🖼 Save image\n",
    "        img_path = img_dir / img_name\n",
    "        image.save(img_path)\n",
    "\n",
    "        # 📝 Save label in YOLO format\n",
    "        img_size = image.size  # (width, height)\n",
    "        lbl_path = lbl_dir / lbl_name\n",
    "        with open(lbl_path, \"w\") as f:\n",
    "            for bbox in bboxes:\n",
    "                x_center, y_center, width, height = convert_bbox_yolo(img_size, bbox)\n",
    "                f.write(f\"0 {x_center} {y_center} {width} {height}\\n\")  # Class '0' for fire"
   ]
  },
  {
   "cell_type": "code",
   "execution_count": 7,
   "metadata": {},
   "outputs": [],
   "source": [
    "save_yolo_format(train_dataset, train_img_dir, train_lbl_dir)\n",
    "\n",
    "save_yolo_format(valid_dataset, valid_img_dir, valid_lbl_dir)"
   ]
  }
 ],
 "metadata": {
  "kernelspec": {
   "display_name": "gemastik",
   "language": "python",
   "name": "python3"
  },
  "language_info": {
   "codemirror_mode": {
    "name": "ipython",
    "version": 3
   },
   "file_extension": ".py",
   "mimetype": "text/x-python",
   "name": "python",
   "nbconvert_exporter": "python",
   "pygments_lexer": "ipython3",
   "version": "3.9.21"
  }
 },
 "nbformat": 4,
 "nbformat_minor": 2
}
